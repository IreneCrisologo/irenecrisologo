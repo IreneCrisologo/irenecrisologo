{
 "cells": [
  {
   "cell_type": "markdown",
   "metadata": {},
   "source": [
    "### Generating random points around random points"
   ]
  },
  {
   "cell_type": "code",
   "execution_count": 1,
   "metadata": {
    "collapsed": false
   },
   "outputs": [
    {
     "name": "stdout",
     "output_type": "stream",
     "text": [
      "Populating the interactive namespace from numpy and matplotlib\n"
     ]
    }
   ],
   "source": [
    "%pylab inline\n",
    "import numpy as np\n",
    "import pylab as pl"
   ]
  },
  {
   "cell_type": "markdown",
   "metadata": {},
   "source": [
    "Set the variables:\n",
    "1. `array_size` : size of the image\n",
    "2. `num_points` : number of random points in the array\n",
    "3. `radius` : radius (pixel distance) at which each point is resampled\n",
    "4. `num_points_around_point` : number of points to be resampled around the original points"
   ]
  },
  {
   "cell_type": "code",
   "execution_count": 2,
   "metadata": {
    "collapsed": true
   },
   "outputs": [],
   "source": [
    "array_size = 1000\n",
    "num_points = 50\n",
    "radius = 20\n",
    "num_points_around_point = 5"
   ]
  },
  {
   "cell_type": "markdown",
   "metadata": {},
   "source": [
    "Generate the coordinates of the first N number of points in the array."
   ]
  },
  {
   "cell_type": "code",
   "execution_count": 3,
   "metadata": {
    "collapsed": true
   },
   "outputs": [],
   "source": [
    "x0 = np.random.randint(0,array_size, size=num_points)\n",
    "y0 = np.random.randint(0,array_size, size=num_points)"
   ]
  },
  {
   "cell_type": "markdown",
   "metadata": {},
   "source": [
    "Get the surrounding points around each original location. This can be done by generating the distances<sup>1,2</sup> to be added to each original location..."
   ]
  },
  {
   "cell_type": "code",
   "execution_count": 4,
   "metadata": {
    "collapsed": true
   },
   "outputs": [],
   "source": [
    "def get_chevbyshev_distance(radius,num_points_around_point,num_points):\n",
    "    x = np.random.randint(-radius,radius, size=(num_points_around_point,num_points))\n",
    "    y = np.random.randint(-radius,radius, size=(num_points_around_point,num_points))\n",
    "    return x,y\n",
    "\n",
    "def get_euclidean_distance(radius,num_points_around_point,num_points):\n",
    "    w = radius * sqrt(np.random.random(size=(num_points_around_point,num_points)))\n",
    "    t = 2 * np.pi * np.random.random(size=(num_points_around_point,num_points))\n",
    "    x = w * np.cos(t) \n",
    "    y = w * np.sin(t)\n",
    "    return x,y\n",
    "\n",
    "xe,ye = get_euclidean_distance(radius,num_points_around_point,num_points)\n",
    "xc,yc = get_chevbyshev_distance(radius,num_points_around_point,num_points)"
   ]
  },
  {
   "cell_type": "markdown",
   "metadata": {},
   "source": [
    "... and adding them to the original locations."
   ]
  },
  {
   "cell_type": "code",
   "execution_count": 5,
   "metadata": {
    "collapsed": false
   },
   "outputs": [],
   "source": [
    "xne = np.add(xe,x0)\n",
    "yne = np.add(ye,y0)\n",
    "\n",
    "xnc = np.add(xc,x0)\n",
    "ync = np.add(yc,y0)"
   ]
  },
  {
   "cell_type": "markdown",
   "metadata": {},
   "source": [
    "Then plot."
   ]
  },
  {
   "cell_type": "code",
   "execution_count": 6,
   "metadata": {
    "collapsed": false
   },
   "outputs": [
    {
     "data": {
      "text/plain": [
       "(0, 1000)"
      ]
     },
     "execution_count": 6,
     "metadata": {},
     "output_type": "execute_result"
    },
    {
     "data": {
      "image/png": "[encoded data removed]",
      "text/plain": [
       "<matplotlib.figure.Figure at 0x10964f510>"
      ]
     },
     "metadata": {},
     "output_type": "display_data"
    }
   ],
   "source": [
    "pl.figure(figsize=(6,6))\n",
    "pl.plot(xne,yne,'bs') # resampled points (euclidean distance)\n",
    "pl.plot(xnc,ync,'gs') # resampled points (chebyshev distance)\n",
    "pl.plot(x0,y0,'ro') # original points\n",
    "pl.xlim((0,1000))\n",
    "pl.ylim((0,1000))"
   ]
  },
  {
   "cell_type": "markdown",
   "metadata": {},
   "source": [
    "References\n",
    "- [1] https://en.wikipedia.org/wiki/Chebyshev_distance\n",
    "- [2] https://en.wikipedia.org/wiki/Euclidean_distance"
   ]
  }
 ],
 "metadata": {
  "anaconda-cloud": {},
  "kernelspec": {
   "display_name": "Python [wradlib]",
   "language": "python",
   "name": "Python [wradlib]"
  },
  "language_info": {
   "codemirror_mode": {
    "name": "ipython",
    "version": 2
   },
   "file_extension": ".py",
   "mimetype": "text/x-python",
   "name": "python",
   "nbconvert_exporter": "python",
   "pygments_lexer": "ipython2",
   "version": "2.7.12"
  }
 },
 "nbformat": 4,
 "nbformat_minor": 0
}
