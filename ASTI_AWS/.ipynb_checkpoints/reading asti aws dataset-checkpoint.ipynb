{
 "cells": [
  {
   "cell_type": "code",
   "execution_count": null,
   "metadata": {
    "collapsed": true
   },
   "outputs": [],
   "source": []
  },
  {
   "cell_type": "code",
   "execution_count": 1,
   "metadata": {
    "collapsed": false
   },
   "outputs": [],
   "source": [
    "%matplotlib inline\n",
    "import numpy as np\n",
    "import pandas as pd\n",
    "import netCDF4 as nc\n",
    "import datetime as dt\n",
    "import pylab as pl"
   ]
  },
  {
   "cell_type": "code",
   "execution_count": 6,
   "metadata": {
    "collapsed": true
   },
   "outputs": [],
   "source": [
    "fname = 'D:/irenecrisologo/dataset/agws.01m.v1.201707.nc/agws.01m.v1.201707.nc'"
   ]
  },
  {
   "cell_type": "code",
   "execution_count": 7,
   "metadata": {
    "collapsed": true
   },
   "outputs": [],
   "source": [
    "dset = nc.Dataset(fname)"
   ]
  },
  {
   "cell_type": "code",
   "execution_count": 8,
   "metadata": {
    "collapsed": false
   },
   "outputs": [
    {
     "name": "stdout",
     "output_type": "stream",
     "text": [
      "station_id 1186\n",
      "station_location 1186\n",
      "station_municipality 1186\n",
      "station_province 1186\n",
      "station_region 1186\n",
      "station_type 1186\n",
      "sampling_period 1186\n",
      "lat 1186\n",
      "lon 1186\n",
      "alt 1186\n",
      "stationIndex 3651638\n",
      "timestamp 3651638\n",
      "relative_humidity 3651638\n",
      "relative_humidity_qc 3651638\n",
      "surface_air_pressure 3651638\n",
      "surface_air_pressure_qc 3651638\n",
      "air_temperature 3651638\n",
      "air_temperature_qc 3651638\n",
      "dew_point 3651638\n",
      "dew_point_qc 3651638\n",
      "ground_water_pressure 3651638\n",
      "ground_water_pressure_qc 3651638\n",
      "ground_water_temperature 3651638\n",
      "ground_water_temperature_qc 3651638\n",
      "leaf_wetness 3651638\n",
      "leaf_wetness_qc 3651638\n",
      "total_rainfall_amount 3651638\n",
      "total_rainfall_amount_qc 3651638\n",
      "rainfall_duration 3651638\n",
      "rainfall_duration_qc 3651638\n",
      "rainfall_rate 3651638\n",
      "rainfall_rate_qc 3651638\n",
      "rainfall_amount 3651638\n",
      "rainfall_amount_qc 3651638\n",
      "soil_moisture_content_15cm 3651638\n",
      "soil_moisture_content_15cm_qc 3651638\n",
      "soil_moisture_content_30cm 3651638\n",
      "soil_moisture_content_30cm_qc 3651638\n",
      "soil_moisture_content_45cm 3651638\n",
      "soil_moisture_content_45cm_qc 3651638\n",
      "soil_temperature_15cm 3651638\n",
      "soil_temperature_15cm_qc 3651638\n",
      "soil_temperature_30cm 3651638\n",
      "soil_temperature_30cm_qc 3651638\n",
      "soil_temperature_45cm 3651638\n",
      "soil_temperature_45cm_qc 3651638\n",
      "solar_radiation 3651638\n",
      "solar_radiation_qc 3651638\n",
      "ultraviolet_index 3651638\n",
      "ultraviolet_index_qc 3651638\n",
      "waterlevel 3651638\n",
      "waterlevel_qc 3651638\n",
      "waterlevel_msl 3651638\n",
      "waterlevel_msl_qc 3651638\n",
      "wet_bulb_temperature 3651638\n",
      "wet_bulb_temperature_qc 3651638\n",
      "wind_chill 3651638\n",
      "wind_chill_qc 3651638\n",
      "wind_direction 3651638\n",
      "wind_direction_qc 3651638\n",
      "wind_direction_10m 3651638\n",
      "wind_direction_10m_qc 3651638\n",
      "wind_direction_max 3651638\n",
      "wind_direction_max_qc 3651638\n",
      "wind_direction_max_10m 3651638\n",
      "wind_direction_max_10m_qc 3651638\n",
      "wind_speed 3651638\n",
      "wind_speed_qc 3651638\n",
      "wind_speed_10m 3651638\n",
      "wind_speed_10m_qc 3651638\n",
      "wind_speed_max 3651638\n",
      "wind_speed_max_qc 3651638\n",
      "wind_speed_max_10m 3651638\n",
      "wind_speed_max_10m_qc 3651638\n"
     ]
    }
   ],
   "source": [
    "for var in dset.variables.keys():\n",
    "    print var, len(dset[var][...])"
   ]
  },
  {
   "cell_type": "markdown",
   "metadata": {},
   "source": [
    "Separate attributes from data."
   ]
  },
  {
   "cell_type": "code",
   "execution_count": 129,
   "metadata": {
    "collapsed": true
   },
   "outputs": [],
   "source": [
    "attrs_keys = dset.variables.keys()[:10]"
   ]
  },
  {
   "cell_type": "code",
   "execution_count": 134,
   "metadata": {
    "collapsed": true
   },
   "outputs": [],
   "source": [
    "# get all, or portion of the dataset\n",
    "data_keys = dset.variables.keys()[10:]\n",
    "\n",
    "# or specify the variables you want to extract\n",
    "data_keys = ['rainfall_amount','air_temperature']"
   ]
  },
  {
   "cell_type": "markdown",
   "metadata": {},
   "source": [
    "### Attributes"
   ]
  },
  {
   "cell_type": "code",
   "execution_count": 64,
   "metadata": {
    "collapsed": true
   },
   "outputs": [],
   "source": [
    "af = pd.DataFrame(index=dset['station_id'][...], columns=attrs_keys)"
   ]
  },
  {
   "cell_type": "code",
   "execution_count": 65,
   "metadata": {
    "collapsed": false
   },
   "outputs": [],
   "source": [
    "# remove some keys because they will be handled differently in making the dataframe\n",
    "string_keys = ['station_location','station_municipality','station_province','station_region']\n",
    "for item in string_keys:\n",
    "    attrs_keys.remove(item)"
   ]
  },
  {
   "cell_type": "code",
   "execution_count": 71,
   "metadata": {
    "collapsed": false
   },
   "outputs": [],
   "source": [
    "# the following attributes are stored as list of characters, this step concatenates them into a coherent string\n",
    "stn_loc_list = []\n",
    "stn_mun_list = []\n",
    "stn_prv_list = []\n",
    "stn_rgn_list = []\n",
    "for i in xrange(len(dset['station_location'][...])):\n",
    "    stn_loc_list.append(''.join(dset['station_location'][...][i]).strip())\n",
    "    stn_mun_list.append(''.join(dset['station_municipality'][...][i]).strip())\n",
    "    stn_prv_list.append(''.join(dset['station_province'][...][i]).strip())\n",
    "    stn_rgn_list.append(''.join(dset['station_region'][...][i]).strip())"
   ]
  },
  {
   "cell_type": "code",
   "execution_count": 74,
   "metadata": {
    "collapsed": false
   },
   "outputs": [],
   "source": [
    "af[u'station_location'] = stn_loc_list\n",
    "af[u'station_municipality'] = stn_mun_list\n",
    "af[u'station_province'] = stn_prv_list\n",
    "af[u'station_region'] = stn_rgn_list"
   ]
  },
  {
   "cell_type": "code",
   "execution_count": 75,
   "metadata": {
    "collapsed": false
   },
   "outputs": [],
   "source": [
    "for akey in attrs_keys:\n",
    "    if akey not in string_keys:\n",
    "        af[akey] = dset[akey][...]"
   ]
  },
  {
   "cell_type": "code",
   "execution_count": 76,
   "metadata": {
    "collapsed": false
   },
   "outputs": [
    {
     "data": {
      "text/html": [
       "<div>\n",
       "<table border=\"1\" class=\"dataframe\">\n",
       "  <thead>\n",
       "    <tr style=\"text-align: right;\">\n",
       "      <th></th>\n",
       "      <th>station_id</th>\n",
       "      <th>station_location</th>\n",
       "      <th>station_municipality</th>\n",
       "      <th>station_province</th>\n",
       "      <th>station_region</th>\n",
       "      <th>station_type</th>\n",
       "      <th>sampling_period</th>\n",
       "      <th>lat</th>\n",
       "      <th>lon</th>\n",
       "      <th>alt</th>\n",
       "    </tr>\n",
       "  </thead>\n",
       "  <tbody>\n",
       "    <tr>\n",
       "      <th>16</th>\n",
       "      <td>16</td>\n",
       "      <td>JARO</td>\n",
       "      <td>ILOILO CITY</td>\n",
       "      <td>Iloilo</td>\n",
       "      <td>6</td>\n",
       "      <td>5</td>\n",
       "      <td>15</td>\n",
       "      <td>10.772</td>\n",
       "      <td>122.579002</td>\n",
       "      <td>7.0</td>\n",
       "    </tr>\n",
       "    <tr>\n",
       "      <th>17</th>\n",
       "      <td>17</td>\n",
       "      <td>ALANGILAN-IDP</td>\n",
       "      <td>BACOLOD CITY</td>\n",
       "      <td>Negros Occidental</td>\n",
       "      <td>6</td>\n",
       "      <td>2</td>\n",
       "      <td>15</td>\n",
       "      <td>10.661</td>\n",
       "      <td>123.079002</td>\n",
       "      <td>0.0</td>\n",
       "    </tr>\n",
       "    <tr>\n",
       "      <th>18</th>\n",
       "      <td>18</td>\n",
       "      <td>ESTEFANIA</td>\n",
       "      <td>BACOLOD CITY</td>\n",
       "      <td>Negros Occidental</td>\n",
       "      <td>6</td>\n",
       "      <td>1</td>\n",
       "      <td>15</td>\n",
       "      <td>10.668</td>\n",
       "      <td>122.984001</td>\n",
       "      <td>0.0</td>\n",
       "    </tr>\n",
       "    <tr>\n",
       "      <th>22</th>\n",
       "      <td>22</td>\n",
       "      <td>JOLO MUNICIPAL HALL, JOLO, SULU</td>\n",
       "      <td>JOLO</td>\n",
       "      <td>Sulu</td>\n",
       "      <td>ARMM</td>\n",
       "      <td>1</td>\n",
       "      <td>15</td>\n",
       "      <td>6.054</td>\n",
       "      <td>121.001999</td>\n",
       "      <td>0.0</td>\n",
       "    </tr>\n",
       "    <tr>\n",
       "      <th>23</th>\n",
       "      <td>23</td>\n",
       "      <td>BRGY. CODINGLE</td>\n",
       "      <td>DUMARAO</td>\n",
       "      <td>Capiz</td>\n",
       "      <td>6</td>\n",
       "      <td>1</td>\n",
       "      <td>15</td>\n",
       "      <td>11.252</td>\n",
       "      <td>122.676003</td>\n",
       "      <td>69.0</td>\n",
       "    </tr>\n",
       "  </tbody>\n",
       "</table>\n",
       "</div>"
      ],
      "text/plain": [
       "    station_id                 station_location station_municipality  \\\n",
       "16          16                             JARO          ILOILO CITY   \n",
       "17          17                    ALANGILAN-IDP         BACOLOD CITY   \n",
       "18          18                        ESTEFANIA         BACOLOD CITY   \n",
       "22          22  JOLO MUNICIPAL HALL, JOLO, SULU                 JOLO   \n",
       "23          23                   BRGY. CODINGLE              DUMARAO   \n",
       "\n",
       "     station_province station_region  station_type  sampling_period     lat  \\\n",
       "16             Iloilo              6             5               15  10.772   \n",
       "17  Negros Occidental              6             2               15  10.661   \n",
       "18  Negros Occidental              6             1               15  10.668   \n",
       "22               Sulu           ARMM             1               15   6.054   \n",
       "23              Capiz              6             1               15  11.252   \n",
       "\n",
       "           lon   alt  \n",
       "16  122.579002   7.0  \n",
       "17  123.079002   0.0  \n",
       "18  122.984001   0.0  \n",
       "22  121.001999   0.0  \n",
       "23  122.676003  69.0  "
      ]
     },
     "execution_count": 76,
     "metadata": {},
     "output_type": "execute_result"
    }
   ],
   "source": [
    "af.head()"
   ]
  },
  {
   "cell_type": "markdown",
   "metadata": {},
   "source": [
    "### Dataset"
   ]
  },
  {
   "cell_type": "code",
   "execution_count": 100,
   "metadata": {
    "collapsed": false
   },
   "outputs": [],
   "source": [
    "datetimes = [dt.datetime.utcfromtimestamp(t) for t in dset['timestamp'][...]]"
   ]
  },
  {
   "cell_type": "code",
   "execution_count": 135,
   "metadata": {
    "collapsed": false
   },
   "outputs": [],
   "source": [
    "df = pd.DataFrame(index=dset['stationIndex'][...], columns=data_keys)"
   ]
  },
  {
   "cell_type": "code",
   "execution_count": 137,
   "metadata": {
    "collapsed": false
   },
   "outputs": [],
   "source": [
    "df['timestamp'] = datetimes"
   ]
  },
  {
   "cell_type": "code",
   "execution_count": 136,
   "metadata": {
    "collapsed": false
   },
   "outputs": [],
   "source": [
    "for dkey in data_keys:\n",
    "    if dkey != 'timestamp':\n",
    "        df[dkey] = dset[dkey][...]"
   ]
  },
  {
   "cell_type": "code",
   "execution_count": 138,
   "metadata": {
    "collapsed": false
   },
   "outputs": [
    {
     "data": {
      "text/html": [
       "<div>\n",
       "<table border=\"1\" class=\"dataframe\">\n",
       "  <thead>\n",
       "    <tr style=\"text-align: right;\">\n",
       "      <th></th>\n",
       "      <th>rainfall_amount</th>\n",
       "      <th>air_temperature</th>\n",
       "      <th>timestamp</th>\n",
       "    </tr>\n",
       "  </thead>\n",
       "  <tbody>\n",
       "    <tr>\n",
       "      <th>0.0</th>\n",
       "      <td>0.0</td>\n",
       "      <td>30.000000</td>\n",
       "      <td>2017-06-01 00:00:06</td>\n",
       "    </tr>\n",
       "    <tr>\n",
       "      <th>0.0</th>\n",
       "      <td>0.0</td>\n",
       "      <td>30.000000</td>\n",
       "      <td>2017-06-01 00:15:05</td>\n",
       "    </tr>\n",
       "    <tr>\n",
       "      <th>0.0</th>\n",
       "      <td>0.0</td>\n",
       "      <td>30.400000</td>\n",
       "      <td>2017-06-01 00:30:05</td>\n",
       "    </tr>\n",
       "    <tr>\n",
       "      <th>0.0</th>\n",
       "      <td>0.0</td>\n",
       "      <td>30.600000</td>\n",
       "      <td>2017-06-01 00:45:05</td>\n",
       "    </tr>\n",
       "    <tr>\n",
       "      <th>0.0</th>\n",
       "      <td>0.0</td>\n",
       "      <td>31.799999</td>\n",
       "      <td>2017-06-01 01:00:05</td>\n",
       "    </tr>\n",
       "  </tbody>\n",
       "</table>\n",
       "</div>"
      ],
      "text/plain": [
       "     rainfall_amount  air_temperature           timestamp\n",
       "0.0              0.0        30.000000 2017-06-01 00:00:06\n",
       "0.0              0.0        30.000000 2017-06-01 00:15:05\n",
       "0.0              0.0        30.400000 2017-06-01 00:30:05\n",
       "0.0              0.0        30.600000 2017-06-01 00:45:05\n",
       "0.0              0.0        31.799999 2017-06-01 01:00:05"
      ]
     },
     "execution_count": 138,
     "metadata": {},
     "output_type": "execute_result"
    }
   ],
   "source": [
    "df.head()"
   ]
  },
  {
   "cell_type": "code",
   "execution_count": 140,
   "metadata": {
    "collapsed": false
   },
   "outputs": [
    {
     "data": {
      "text/plain": [
       "[<matplotlib.lines.Line2D at 0x12fca8590>]"
      ]
     },
     "execution_count": 140,
     "metadata": {},
     "output_type": "execute_result"
    },
    {
     "data": {
      "image/png": "[encoded data removed]",
      "text/plain": [
       "<matplotlib.figure.Figure at 0x16da5a790>"
      ]
     },
     "metadata": {},
     "output_type": "display_data"
    }
   ],
   "source": [
    "pl.plot(df['timestamp'][0],df['rainfall_amount'][0])\n",
    "pl.plot(df['timestamp'][1],df['rainfall_amount'][1])"
   ]
  },
  {
   "cell_type": "code",
   "execution_count": null,
   "metadata": {
    "collapsed": true
   },
   "outputs": [],
   "source": []
  }
 ],
 "metadata": {
  "anaconda-cloud": {},
  "kernelspec": {
   "display_name": "Python [conda env:wradlib]",
   "language": "python",
   "name": "conda-env-wradlib-py"
  },
  "language_info": {
   "codemirror_mode": {
    "name": "ipython",
    "version": 2
   },
   "file_extension": ".py",
   "mimetype": "text/x-python",
   "name": "python",
   "nbconvert_exporter": "python",
   "pygments_lexer": "ipython2",
   "version": "2.7.12"
  }
 },
 "nbformat": 4,
 "nbformat_minor": 0
}
