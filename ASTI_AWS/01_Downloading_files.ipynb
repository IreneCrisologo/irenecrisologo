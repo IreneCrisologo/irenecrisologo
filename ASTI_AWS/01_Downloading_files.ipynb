{
 "cells": [
  {
   "cell_type": "markdown",
   "metadata": {},
   "source": [
    "# Downloading ASTI AWS data\n",
    "\n",
    "Author: [Irene Crisologo](http://philippineradarnetwork.wordpress.com/)\n",
    "\n",
    "This notebook shows how to download the ASTI AWS files from the [COARE database](http://asti.dost.gov.ph/coare/data/datasets/aws-qc-monthly-agg-prod) based on specified start and end Year-Month (e.g. from 2012-05 to 2013-04)"
   ]
  },
  {
   "cell_type": "markdown",
   "metadata": {},
   "source": [
    "Import necessary modules."
   ]
  },
  {
   "cell_type": "code",
   "execution_count": 1,
   "metadata": {
    "collapsed": true
   },
   "outputs": [],
   "source": [
    "import datetime as dt\n",
    "import os\n",
    "import urllib2\n",
    "from dateutil.rrule import rrule, MONTHLY"
   ]
  },
  {
   "cell_type": "markdown",
   "metadata": {},
   "source": [
    "Define the functions we need. In this case, we need a function<sup><a href='#References'>1</a></sup> that downloads a file based on a URL into a specified folder, and a function<sup>[2](#References)</sup> that lists the months between two dates in the year-month format."
   ]
  },
  {
   "cell_type": "code",
   "execution_count": 2,
   "metadata": {
    "collapsed": false
   },
   "outputs": [],
   "source": [
    "def dlfile(url, savefolder=''):\n",
    "    \"\"\"Download file from URL.\n",
    "    \"\"\"\n",
    "    headers={'User-agent' : 'Mozilla/5.0'}\n",
    "    # Open the url\n",
    "    try:\n",
    "        req = urllib2.Request(url, None, headers)\n",
    "        f = urllib2.urlopen(req)\n",
    "        print \"downloading \" + url\n",
    "\n",
    "        # Open our local file for writing\n",
    "        with open(os.path.join(savefolder,os.path.basename(url)), \"wb\") as local_file:\n",
    "            local_file.write(f.read())\n",
    "\n",
    "    #handle errors\n",
    "    except urllib2.HTTPError, e:\n",
    "        print \"HTTP Error:\", e.code, url\n",
    "    except urllib2.URLError, e:\n",
    "        print \"URL Error:\", e.reason, url"
   ]
  },
  {
   "cell_type": "code",
   "execution_count": 3,
   "metadata": {
    "collapsed": true
   },
   "outputs": [],
   "source": [
    "def months_in_twindow(tstart, tend):\n",
    "    \"\"\"Determines the months in a time window defined by tstart and tend.\n",
    "    \"\"\"\n",
    "    if not isinstance(tstart, dt.date):\n",
    "        tstart = dt.datetime.strptime(tstart, \"%Y-%m\")\n",
    "    if not isinstance(tend, dt.date):\n",
    "        tend   = dt.datetime.strptime(tend  , \"%Y-%m\")\n",
    "    startmonth = dt.datetime.strptime(tstart.strftime(\"%Y-%m\"), \"%Y-%m\")\n",
    "    endmonth   = dt.datetime.strptime(tend.strftime(\"%Y-%m\"), \"%Y-%m\")\n",
    "    months = [dt.datetime.strftime(dt_,\"%Y%m\") for dt_ in rrule(MONTHLY, dtstart=startmonth, until=endmonth)]\n",
    "    return months"
   ]
  },
  {
   "cell_type": "markdown",
   "metadata": {},
   "source": [
    "Here we specify the starting and ending month that we want to download. The final list will include both dates."
   ]
  },
  {
   "cell_type": "code",
   "execution_count": 4,
   "metadata": {
    "collapsed": true
   },
   "outputs": [],
   "source": [
    "tstart = '2012-01'\n",
    "tend = '2012-05'"
   ]
  },
  {
   "cell_type": "markdown",
   "metadata": {},
   "source": [
    "Specify which folder we want the data to be saved."
   ]
  },
  {
   "cell_type": "code",
   "execution_count": 5,
   "metadata": {
    "collapsed": true
   },
   "outputs": [],
   "source": [
    "savefolder = '../dataset/coare_gz/'"
   ]
  },
  {
   "cell_type": "markdown",
   "metadata": {},
   "source": [
    "Get the list of months we want to download."
   ]
  },
  {
   "cell_type": "code",
   "execution_count": 6,
   "metadata": {
    "collapsed": false
   },
   "outputs": [],
   "source": [
    "months = months_in_twindow(tstart, tend)"
   ]
  },
  {
   "cell_type": "markdown",
   "metadata": {},
   "source": [
    "Download the corresponding files for each month."
   ]
  },
  {
   "cell_type": "code",
   "execution_count": 7,
   "metadata": {
    "collapsed": false
   },
   "outputs": [
    {
     "name": "stdout",
     "output_type": "stream",
     "text": [
      "downloading http://asti.dost.gov.ph/coare/data/pub/asti/aws-qc-monthly-agg-prod/agws.01m.v1.201201.nc.gz\n",
      "downloading http://asti.dost.gov.ph/coare/data/pub/asti/aws-qc-monthly-agg-prod/agws.01m.v1.201202.nc.gz\n",
      "downloading http://asti.dost.gov.ph/coare/data/pub/asti/aws-qc-monthly-agg-prod/agws.01m.v1.201203.nc.gz\n",
      "downloading http://asti.dost.gov.ph/coare/data/pub/asti/aws-qc-monthly-agg-prod/agws.01m.v1.201204.nc.gz\n",
      "downloading http://asti.dost.gov.ph/coare/data/pub/asti/aws-qc-monthly-agg-prod/agws.01m.v1.201205.nc.gz\n"
     ]
    }
   ],
   "source": [
    "for mo in months:\n",
    "    dlfile('http://asti.dost.gov.ph/coare/data/pub/asti/aws-qc-monthly-agg-prod/agws.01m.v1.%s.nc.gz' %mo, savefolder)"
   ]
  },
  {
   "cell_type": "markdown",
   "metadata": {},
   "source": [
    "**Done!** Check the `savefolder` contents, the downloaded files should be there."
   ]
  },
  {
   "cell_type": "markdown",
   "metadata": {},
   "source": [
    "<a id='References'></a>"
   ]
  },
  {
   "cell_type": "markdown",
   "metadata": {},
   "source": [
    "#### References:\n",
    "\n",
    "[1] Download function modified from https://stackoverflow.com/questions/4028697/how-do-i-download-a-zip-file-in-python-using-urllib2\n",
    "\n",
    "[2] Based on wradlib's [utility function](https://github.com/wradlib/wradlib/blob/master/wradlib/util.py) `days_in_twindow` modified to give months instead of days, modified based on https://stackoverflow.com/questions/37456421/getting-a-list-of-months-between-two-dates"
   ]
  },
  {
   "cell_type": "raw",
   "metadata": {},
   "source": [
    "# An alternative is to look at all the available files in the API and get the list of URLs for download. The method above has more control, but i'm just leaving this here for reference.\n",
    "\n",
    "# coare_api = 'http://asti.dost.gov.ph/coare/data/api/package_show?id=aws-qc-monthly-agg-prod'\n",
    "# headers={'User-agent' : 'Mozilla/5.0'}\n",
    "# req = urllib2.Request(coare_api, None, headers)\n",
    "# resp = urllib2.urlopen(req)\n",
    "# data = json.load(resp)\n",
    "# res = data['result']['resources']\n",
    "\n",
    "# download_urls = []\n",
    "# for item in res[:5]:\n",
    "#     download_urls.append(item['url'])"
   ]
  }
 ],
 "metadata": {
  "anaconda-cloud": {},
  "kernelspec": {
   "display_name": "Python [wradlib]",
   "language": "python",
   "name": "Python [wradlib]"
  },
  "language_info": {
   "codemirror_mode": {
    "name": "ipython",
    "version": 2
   },
   "file_extension": ".py",
   "mimetype": "text/x-python",
   "name": "python",
   "nbconvert_exporter": "python",
   "pygments_lexer": "ipython2",
   "version": "2.7.12"
  }
 },
 "nbformat": 4,
 "nbformat_minor": 0
}
