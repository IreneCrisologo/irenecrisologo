{
 "cells": [
  {
   "cell_type": "code",
   "execution_count": 9,
   "metadata": {
    "collapsed": true
   },
   "outputs": [],
   "source": [
    "import datetime as dt\n",
    "import os\n",
    "\n",
    "import gzip\n",
    "import shutil\n",
    "\n",
    "from dateutil.rrule import rrule, MONTHLY"
   ]
  },
  {
   "cell_type": "code",
   "execution_count": 10,
   "metadata": {
    "collapsed": true
   },
   "outputs": [],
   "source": [
    "def months_in_twindow(tstart, tend):\n",
    "    \"\"\"Determines the months in a time window defined by tstart and tend.\n",
    "    \"\"\"\n",
    "    if not isinstance(tstart, dt.date):\n",
    "        tstart = dt.datetime.strptime(tstart, \"%Y-%m\")\n",
    "    if not isinstance(tend, dt.date):\n",
    "        tend   = dt.datetime.strptime(tend  , \"%Y-%m\")\n",
    "    startmonth = dt.datetime.strptime(tstart.strftime(\"%Y-%m\"), \"%Y-%m\")\n",
    "    endmonth   = dt.datetime.strptime(tend.strftime(\"%Y-%m\"), \"%Y-%m\")\n",
    "    months = [dt.datetime.strftime(dt_,\"%Y%m\") for dt_ in rrule(MONTHLY, dtstart=startmonth, until=endmonth)]\n",
    "    return months"
   ]
  },
  {
   "cell_type": "code",
   "execution_count": 17,
   "metadata": {
    "collapsed": true
   },
   "outputs": [],
   "source": [
    "datapath_source = '../dataset/coare_gz/'\n",
    "datapath_target = '../dataset/coare/'"
   ]
  },
  {
   "cell_type": "code",
   "execution_count": 6,
   "metadata": {
    "collapsed": true
   },
   "outputs": [],
   "source": [
    "tstart = '2015-01'\n",
    "tend = '2015-05'"
   ]
  },
  {
   "cell_type": "code",
   "execution_count": 11,
   "metadata": {
    "collapsed": false
   },
   "outputs": [],
   "source": [
    "months = months_in_twindow(tstart, tend)"
   ]
  },
  {
   "cell_type": "code",
   "execution_count": 15,
   "metadata": {
    "collapsed": false
   },
   "outputs": [],
   "source": [
    "filestounzip = ['agws.01m.v1.%s.nc.gz' %mo for mo in months]"
   ]
  },
  {
   "cell_type": "code",
   "execution_count": 16,
   "metadata": {
    "collapsed": false
   },
   "outputs": [
    {
     "data": {
      "text/plain": [
       "['agws.01m.v1.201501.nc.gz',\n",
       " 'agws.01m.v1.201502.nc.gz',\n",
       " 'agws.01m.v1.201503.nc.gz',\n",
       " 'agws.01m.v1.201504.nc.gz',\n",
       " 'agws.01m.v1.201505.nc.gz']"
      ]
     },
     "execution_count": 16,
     "metadata": {},
     "output_type": "execute_result"
    }
   ],
   "source": [
    "filestounzip"
   ]
  },
  {
   "cell_type": "code",
   "execution_count": 21,
   "metadata": {
    "collapsed": false
   },
   "outputs": [],
   "source": [
    "for f in filestounzip:\n",
    "    fsave = f.replace('.gz','')\n",
    "    unzippedfile = os.path.join(datapath_target, fsave)\n",
    "    zippedfile = os.path.join(datapath_source, f)\n",
    "    with gzip.open(zippedfile, 'rb') as source, open(unzippedfile, 'wb') as target:\n",
    "        shutil.copyfileobj(source, target)"
   ]
  },
  {
   "cell_type": "code",
   "execution_count": 22,
   "metadata": {
    "collapsed": false
   },
   "outputs": [
    {
     "data": {
      "text/plain": [
       "'../dataset/coare/agws.01m.v1.201505.nc'"
      ]
     },
     "execution_count": 22,
     "metadata": {},
     "output_type": "execute_result"
    }
   ],
   "source": [
    "unzippedfile"
   ]
  },
  {
   "cell_type": "code",
   "execution_count": null,
   "metadata": {
    "collapsed": true
   },
   "outputs": [],
   "source": []
  }
 ],
 "metadata": {
  "anaconda-cloud": {},
  "kernelspec": {
   "display_name": "Python [conda env:wradlib]",
   "language": "python",
   "name": "conda-env-wradlib-py"
  },
  "language_info": {
   "codemirror_mode": {
    "name": "ipython",
    "version": 2
   },
   "file_extension": ".py",
   "mimetype": "text/x-python",
   "name": "python",
   "nbconvert_exporter": "python",
   "pygments_lexer": "ipython2",
   "version": "2.7.12"
  }
 },
 "nbformat": 4,
 "nbformat_minor": 1
}
