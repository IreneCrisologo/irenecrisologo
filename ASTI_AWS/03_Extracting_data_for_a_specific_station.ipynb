{
 "cells": [
  {
   "cell_type": "code",
   "execution_count": 7,
   "metadata": {
    "collapsed": true
   },
   "outputs": [],
   "source": [
    "%matplotlib inline \n",
    "# above is an iPython magic command that displays plots immediately after the cell where the plot was made\n",
    "import numpy as np\n",
    "import pandas as pd\n",
    "import netCDF4 as nc\n",
    "import datetime as dt\n",
    "import pylab as pl\n",
    "import os\n",
    "import urllib2\n",
    "import json\n",
    "from dateutil.rrule import rrule, MONTHLY"
   ]
  },
  {
   "cell_type": "code",
   "execution_count": 3,
   "metadata": {
    "collapsed": true
   },
   "outputs": [],
   "source": [
    "def extract_station_data(filepath, station_id_to_extract, data_keys = {'rainfall_amount','rainfall_amount_qc'}):\n",
    "    dset = nc.Dataset(fname)\n",
    "    metadata_keys = dset.variables.keys()[:10]\n",
    "\n",
    "    # CREATE METADATA DATAFRAME\n",
    "    metadata = pd.DataFrame(index=dset['station_id'][...], columns=metadata_keys)\n",
    "    # handle keys with data as string in metadata\n",
    "    string_keys = ['station_location','station_municipality','station_province','station_region']\n",
    "    for key in string_keys:\n",
    "        # the attributes in the list are stored as list of characters, \n",
    "        # this step concatenates them into a coherent string and directly fills the dataframe\n",
    "        metadata[key] = [\"\".join(data).strip() for data in dset[key][...]]\n",
    "        # remove these keys because they are already filled in the dataframe\n",
    "        metadata_keys.remove(key)\n",
    "    for key in metadata_keys:\n",
    "        if key not in string_keys:\n",
    "            metadata[key] = dset[key][...]\n",
    "\n",
    "    # CREATE DATA DATAFRAME\n",
    "    df = pd.DataFrame(index=dset['stationIndex'][...].astype(int), columns=data_keys)\n",
    "    datetimes = [dt.datetime.utcfromtimestamp(t) for t in dset['timestamp'][...]]\n",
    "    df['timestamp'] = datetimes\n",
    "    # handle keys with data as string in dataset\n",
    "    for key in data_keys:\n",
    "        if key != 'timestamp':\n",
    "            if key.endswith('_qc'):\n",
    "                df[key] = [\"\".join(data).strip() for data in dset[key][...]]\n",
    "            else:\n",
    "                df[key] = dset[key][...]\n",
    "\n",
    "    station_idx = np.where(metadata['station_id'] == station_id_to_extract)[0][0]    \n",
    "    df_station = df.loc[station_idx]\n",
    "    # get sampling period for plot label and write into metadata\n",
    "    sampling_period = metadata.loc[station_id_to_extract]['sampling_period']\n",
    "    df_station = df_station.reset_index().set_index('timestamp')\n",
    "    \n",
    "    return df_station, metadata"
   ]
  },
  {
   "cell_type": "code",
   "execution_count": 9,
   "metadata": {
    "collapsed": true
   },
   "outputs": [],
   "source": [
    "fname = '../dataset/agws.01m.v1.201311.nc'\n",
    "station_id_to_extract = 179\n",
    "# specify the variables you want to extract\n",
    "data_keys = ['rainfall_amount','rainfall_amount_qc','surface_air_pressure','surface_air_pressure_qc']\n",
    "\n",
    "tstart = '2012-01'\n",
    "tend = '2012-05'"
   ]
  },
  {
   "cell_type": "code",
   "execution_count": null,
   "metadata": {
    "collapsed": true
   },
   "outputs": [],
   "source": []
  }
 ],
 "metadata": {
  "anaconda-cloud": {},
  "kernelspec": {
   "display_name": "Python [wradlib]",
   "language": "python",
   "name": "Python [wradlib]"
  },
  "language_info": {
   "codemirror_mode": {
    "name": "ipython",
    "version": 2
   },
   "file_extension": ".py",
   "mimetype": "text/x-python",
   "name": "python",
   "nbconvert_exporter": "python",
   "pygments_lexer": "ipython2",
   "version": "2.7.12"
  }
 },
 "nbformat": 4,
 "nbformat_minor": 0
}
