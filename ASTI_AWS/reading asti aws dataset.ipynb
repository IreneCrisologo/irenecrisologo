{
 "cells": [
  {
   "cell_type": "markdown",
   "metadata": {},
   "source": [
    "# Reading ASTI AWS netcdf data\n",
    "\n",
    "Author: [Irene Crisologo](http://philippineradarnetwork.wordpress.com/)\n",
    "\n",
    "This notebook shows how to read the extracted netcdf files and generate a Pandas dataframe from the contents. A few examples of how to work with the Pandas dataframe are shown below, as well as examples on how to plot the data."
   ]
  },
  {
   "cell_type": "markdown",
   "metadata": {},
   "source": [
    "#### Import necessary modules\n",
    "Here we need [numpy](www.numpy.org/) to handle arrays, [Pandas](pandas.pydata.org/) for making a structured dataset, [netCDF4](unidata.github.io/netcdf4-python/) for reading the netcdf files, [datetime](https://docs.python.org/2/library/datetime.html) for handling date and time objects, and pylab for plotting."
   ]
  },
  {
   "cell_type": "code",
   "execution_count": 2,
   "metadata": {
    "collapsed": false
   },
   "outputs": [],
   "source": [
    "%matplotlib inline \n",
    "# above is an iPython magic command that displays plots immediately after the cell where the plot was made\n",
    "import numpy as np\n",
    "import pandas as pd\n",
    "import netCDF4 as nc\n",
    "import datetime as dt\n",
    "import pylab as pl"
   ]
  },
  {
   "cell_type": "markdown",
   "metadata": {},
   "source": [
    "Set the path of the file we want to read."
   ]
  },
  {
   "cell_type": "code",
   "execution_count": 5,
   "metadata": {
    "collapsed": true
   },
   "outputs": [],
   "source": [
    "fname = '../dataset/agws.01m.v1.201211.nc'"
   ]
  },
  {
   "cell_type": "markdown",
   "metadata": {},
   "source": [
    "Read the netcdf file."
   ]
  },
  {
   "cell_type": "code",
   "execution_count": 6,
   "metadata": {
    "collapsed": false
   },
   "outputs": [],
   "source": [
    "dset = nc.Dataset(fname)"
   ]
  },
  {
   "cell_type": "markdown",
   "metadata": {},
   "source": [
    "Display all the variables contained in the file, as well as the length of each variable."
   ]
  },
  {
   "cell_type": "code",
   "execution_count": 7,
   "metadata": {
    "collapsed": false
   },
   "outputs": [
    {
     "name": "stdout",
     "output_type": "stream",
     "text": [
      "station_id 189\n",
      "station_location 189\n",
      "station_municipality 189\n",
      "station_province 189\n",
      "station_region 189\n",
      "station_type 189\n",
      "sampling_period 189\n",
      "lat 189\n",
      "lon 189\n",
      "alt 189\n",
      "stationIndex 497334\n",
      "timestamp 497334\n",
      "relative_humidity 497334\n",
      "relative_humidity_qc 497334\n",
      "surface_air_pressure 497334\n",
      "surface_air_pressure_qc 497334\n",
      "air_temperature 497334\n",
      "air_temperature_qc 497334\n",
      "total_rainfall_amount 497334\n",
      "total_rainfall_amount_qc 497334\n",
      "rainfall_duration 497334\n",
      "rainfall_duration_qc 497334\n",
      "rainfall_rate 497334\n",
      "rainfall_rate_qc 497334\n",
      "rainfall_amount 497334\n",
      "rainfall_amount_qc 497334\n",
      "waterlevel 497334\n",
      "waterlevel_qc 497334\n",
      "waterlevel_msl 497334\n",
      "waterlevel_msl_qc 497334\n",
      "wind_direction 497334\n",
      "wind_direction_qc 497334\n",
      "wind_direction_10m 497334\n",
      "wind_direction_10m_qc 497334\n",
      "wind_direction_max 497334\n",
      "wind_direction_max_qc 497334\n",
      "wind_direction_max_10m 497334\n",
      "wind_direction_max_10m_qc 497334\n",
      "wind_speed 497334\n",
      "wind_speed_qc 497334\n",
      "wind_speed_10m 497334\n",
      "wind_speed_10m_qc 497334\n",
      "wind_speed_max 497334\n",
      "wind_speed_max_qc 497334\n",
      "wind_speed_max_10m 497334\n",
      "wind_speed_max_10m_qc 497334\n"
     ]
    }
   ],
   "source": [
    "for var in dset.variables.keys():\n",
    "    print var, len(dset[var][...])"
   ]
  },
  {
   "cell_type": "markdown",
   "metadata": {},
   "source": [
    "The list above means that the first ten variables are the metadata, where the number of stations within the file corresponds to the number printed beside it. The succeeding variables are the dataset variables.\n",
    "\n",
    "Separate attributes from data."
   ]
  },
  {
   "cell_type": "code",
   "execution_count": 27,
   "metadata": {
    "collapsed": true
   },
   "outputs": [],
   "source": [
    "attrs_keys = dset.variables.keys()[:10]"
   ]
  },
  {
   "cell_type": "code",
   "execution_count": 28,
   "metadata": {
    "collapsed": true
   },
   "outputs": [],
   "source": [
    "# get all, or portion of the dataset\n",
    "#data_keys = dset.variables.keys()[10:]\n",
    "\n",
    "# or specify the variables you want to extract\n",
    "data_keys = ['rainfall_amount','air_temperature']"
   ]
  },
  {
   "cell_type": "markdown",
   "metadata": {},
   "source": [
    "### Attributes"
   ]
  },
  {
   "cell_type": "code",
   "execution_count": 29,
   "metadata": {
    "collapsed": true
   },
   "outputs": [],
   "source": [
    "af = pd.DataFrame(index=dset['station_id'][...], columns=attrs_keys)"
   ]
  },
  {
   "cell_type": "code",
   "execution_count": 30,
   "metadata": {
    "collapsed": false
   },
   "outputs": [],
   "source": [
    "# remove some keys because they will be handled differently in making the dataframe\n",
    "string_keys = ['station_location','station_municipality','station_province','station_region']\n",
    "for key in string_keys:\n",
    "    attrs_keys.remove(key)\n",
    "    # the attributes in the list are stored as list of characters, this step concatenates them into a coherent string\n",
    "    af[key] = [\"\".join(data).strip() for data in dset[key][...]]"
   ]
  },
  {
   "cell_type": "code",
   "execution_count": 14,
   "metadata": {
    "collapsed": false
   },
   "outputs": [],
   "source": [
    "for akey in attrs_keys:\n",
    "    if akey not in string_keys:\n",
    "        af[akey] = dset[akey][...]"
   ]
  },
  {
   "cell_type": "code",
   "execution_count": 15,
   "metadata": {
    "collapsed": false
   },
   "outputs": [
    {
     "data": {
      "text/html": [
       "<div>\n",
       "<table border=\"1\" class=\"dataframe\">\n",
       "  <thead>\n",
       "    <tr style=\"text-align: right;\">\n",
       "      <th></th>\n",
       "      <th>station_id</th>\n",
       "      <th>station_location</th>\n",
       "      <th>station_municipality</th>\n",
       "      <th>station_province</th>\n",
       "      <th>station_region</th>\n",
       "      <th>station_type</th>\n",
       "      <th>sampling_period</th>\n",
       "      <th>lat</th>\n",
       "      <th>lon</th>\n",
       "      <th>alt</th>\n",
       "    </tr>\n",
       "  </thead>\n",
       "  <tbody>\n",
       "    <tr>\n",
       "      <th>16</th>\n",
       "      <td>16</td>\n",
       "      <td>JARO</td>\n",
       "      <td>ILOILO CITY</td>\n",
       "      <td>Iloilo</td>\n",
       "      <td>6</td>\n",
       "      <td>5</td>\n",
       "      <td>15</td>\n",
       "      <td>10.772</td>\n",
       "      <td>122.579002</td>\n",
       "      <td>7.0</td>\n",
       "    </tr>\n",
       "    <tr>\n",
       "      <th>17</th>\n",
       "      <td>17</td>\n",
       "      <td>ALANGILAN-IDP</td>\n",
       "      <td>BACOLOD CITY</td>\n",
       "      <td>Negros Occidental</td>\n",
       "      <td>6</td>\n",
       "      <td>2</td>\n",
       "      <td>15</td>\n",
       "      <td>10.661</td>\n",
       "      <td>123.079002</td>\n",
       "      <td>0.0</td>\n",
       "    </tr>\n",
       "    <tr>\n",
       "      <th>18</th>\n",
       "      <td>18</td>\n",
       "      <td>ESTEFANIA</td>\n",
       "      <td>BACOLOD CITY</td>\n",
       "      <td>Negros Occidental</td>\n",
       "      <td>6</td>\n",
       "      <td>1</td>\n",
       "      <td>15</td>\n",
       "      <td>10.668</td>\n",
       "      <td>122.984001</td>\n",
       "      <td>0.0</td>\n",
       "    </tr>\n",
       "    <tr>\n",
       "      <th>19</th>\n",
       "      <td>19</td>\n",
       "      <td>TANGUB</td>\n",
       "      <td>BACOLOD CITY</td>\n",
       "      <td>Negros Occidental</td>\n",
       "      <td>6</td>\n",
       "      <td>1</td>\n",
       "      <td>15</td>\n",
       "      <td>10.641</td>\n",
       "      <td>122.924004</td>\n",
       "      <td>0.0</td>\n",
       "    </tr>\n",
       "    <tr>\n",
       "      <th>21</th>\n",
       "      <td>21</td>\n",
       "      <td>BRGY. SAN RAYMUNDO, JOLO, SULU</td>\n",
       "      <td>JOLO</td>\n",
       "      <td>Sulu</td>\n",
       "      <td>ARMM</td>\n",
       "      <td>5</td>\n",
       "      <td>15</td>\n",
       "      <td>6.058</td>\n",
       "      <td>121.010002</td>\n",
       "      <td>0.0</td>\n",
       "    </tr>\n",
       "  </tbody>\n",
       "</table>\n",
       "</div>"
      ],
      "text/plain": [
       "    station_id                station_location station_municipality  \\\n",
       "16          16                            JARO          ILOILO CITY   \n",
       "17          17                   ALANGILAN-IDP         BACOLOD CITY   \n",
       "18          18                       ESTEFANIA         BACOLOD CITY   \n",
       "19          19                          TANGUB         BACOLOD CITY   \n",
       "21          21  BRGY. SAN RAYMUNDO, JOLO, SULU                 JOLO   \n",
       "\n",
       "     station_province station_region  station_type  sampling_period     lat  \\\n",
       "16             Iloilo              6             5               15  10.772   \n",
       "17  Negros Occidental              6             2               15  10.661   \n",
       "18  Negros Occidental              6             1               15  10.668   \n",
       "19  Negros Occidental              6             1               15  10.641   \n",
       "21               Sulu           ARMM             5               15   6.058   \n",
       "\n",
       "           lon  alt  \n",
       "16  122.579002  7.0  \n",
       "17  123.079002  0.0  \n",
       "18  122.984001  0.0  \n",
       "19  122.924004  0.0  \n",
       "21  121.010002  0.0  "
      ]
     },
     "execution_count": 15,
     "metadata": {},
     "output_type": "execute_result"
    }
   ],
   "source": [
    "af.head()"
   ]
  },
  {
   "cell_type": "markdown",
   "metadata": {},
   "source": [
    "### Dataset"
   ]
  },
  {
   "cell_type": "code",
   "execution_count": 16,
   "metadata": {
    "collapsed": false
   },
   "outputs": [],
   "source": [
    "datetimes = [dt.datetime.utcfromtimestamp(t) for t in dset['timestamp'][...]]"
   ]
  },
  {
   "cell_type": "code",
   "execution_count": 17,
   "metadata": {
    "collapsed": false
   },
   "outputs": [],
   "source": [
    "df = pd.DataFrame(index=dset['stationIndex'][...], columns=data_keys)"
   ]
  },
  {
   "cell_type": "code",
   "execution_count": 18,
   "metadata": {
    "collapsed": false
   },
   "outputs": [],
   "source": [
    "df['timestamp'] = datetimes"
   ]
  },
  {
   "cell_type": "code",
   "execution_count": 19,
   "metadata": {
    "collapsed": false
   },
   "outputs": [],
   "source": [
    "for dkey in data_keys:\n",
    "    if dkey != 'timestamp':\n",
    "        df[dkey] = dset[dkey][...]"
   ]
  },
  {
   "cell_type": "code",
   "execution_count": 20,
   "metadata": {
    "collapsed": false
   },
   "outputs": [
    {
     "data": {
      "text/html": [
       "<div>\n",
       "<table border=\"1\" class=\"dataframe\">\n",
       "  <thead>\n",
       "    <tr style=\"text-align: right;\">\n",
       "      <th></th>\n",
       "      <th>rainfall_amount</th>\n",
       "      <th>air_temperature</th>\n",
       "      <th>timestamp</th>\n",
       "    </tr>\n",
       "  </thead>\n",
       "  <tbody>\n",
       "    <tr>\n",
       "      <th>0.0</th>\n",
       "      <td>0.0</td>\n",
       "      <td>27.799999</td>\n",
       "      <td>2012-11-01 00:00:05</td>\n",
       "    </tr>\n",
       "    <tr>\n",
       "      <th>0.0</th>\n",
       "      <td>0.0</td>\n",
       "      <td>28.200001</td>\n",
       "      <td>2012-11-01 00:15:05</td>\n",
       "    </tr>\n",
       "    <tr>\n",
       "      <th>0.0</th>\n",
       "      <td>0.0</td>\n",
       "      <td>28.500000</td>\n",
       "      <td>2012-11-01 00:30:06</td>\n",
       "    </tr>\n",
       "    <tr>\n",
       "      <th>0.0</th>\n",
       "      <td>0.0</td>\n",
       "      <td>28.900000</td>\n",
       "      <td>2012-11-01 00:45:06</td>\n",
       "    </tr>\n",
       "    <tr>\n",
       "      <th>0.0</th>\n",
       "      <td>0.0</td>\n",
       "      <td>29.200001</td>\n",
       "      <td>2012-11-01 01:00:06</td>\n",
       "    </tr>\n",
       "  </tbody>\n",
       "</table>\n",
       "</div>"
      ],
      "text/plain": [
       "     rainfall_amount  air_temperature           timestamp\n",
       "0.0              0.0        27.799999 2012-11-01 00:00:05\n",
       "0.0              0.0        28.200001 2012-11-01 00:15:05\n",
       "0.0              0.0        28.500000 2012-11-01 00:30:06\n",
       "0.0              0.0        28.900000 2012-11-01 00:45:06\n",
       "0.0              0.0        29.200001 2012-11-01 01:00:06"
      ]
     },
     "execution_count": 20,
     "metadata": {},
     "output_type": "execute_result"
    }
   ],
   "source": [
    "df.head()"
   ]
  },
  {
   "cell_type": "code",
   "execution_count": 21,
   "metadata": {
    "collapsed": false
   },
   "outputs": [
    {
     "data": {
      "text/plain": [
       "[<matplotlib.lines.Line2D at 0xed29518>]"
      ]
     },
     "execution_count": 21,
     "metadata": {},
     "output_type": "execute_result"
    },
    {
     "data": {
      "image/png": "[encoded data removed]",
      "text/plain": [
       "<matplotlib.figure.Figure at 0xca83400>"
      ]
     },
     "metadata": {},
     "output_type": "display_data"
    }
   ],
   "source": [
    "pl.plot(df['timestamp'][0],df['rainfall_amount'][0])\n",
    "pl.plot(df['timestamp'][1],df['rainfall_amount'][1])"
   ]
  },
  {
   "cell_type": "code",
   "execution_count": null,
   "metadata": {
    "collapsed": true
   },
   "outputs": [],
   "source": []
  }
 ],
 "metadata": {
  "anaconda-cloud": {},
  "kernelspec": {
   "display_name": "Python [conda env:wradlib]",
   "language": "python",
   "name": "conda-env-wradlib-py"
  },
  "language_info": {
   "codemirror_mode": {
    "name": "ipython",
    "version": 2
   },
   "file_extension": ".py",
   "mimetype": "text/x-python",
   "name": "python",
   "nbconvert_exporter": "python",
   "pygments_lexer": "ipython2",
   "version": "2.7.12"
  }
 },
 "nbformat": 4,
 "nbformat_minor": 0
}
