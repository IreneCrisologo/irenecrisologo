{
 "cells": [
  {
   "cell_type": "markdown",
   "metadata": {},
   "source": [
    "# Reading ASTI AWS netcdf data\n",
    "\n",
    "Author: [Irene Crisologo](http://philippineradarnetwork.wordpress.com/)\n",
    "\n",
    "This notebook shows how to read the extracted netcdf files and generate a Pandas dataframe from the contents. A few examples of how to work with the Pandas dataframe are shown below, as well as examples on how to plot the data."
   ]
  },
  {
   "cell_type": "markdown",
   "metadata": {},
   "source": [
    "#### Import necessary modules\n",
    "Here we need [numpy](www.numpy.org/) to handle arrays, [Pandas](pandas.pydata.org/) for making a structured dataset, [netCDF4](unidata.github.io/netcdf4-python/) for reading the netcdf files, [datetime](https://docs.python.org/2/library/datetime.html) for handling date and time objects, and pylab for plotting."
   ]
  },
  {
   "cell_type": "code",
   "execution_count": 1,
   "metadata": {
    "collapsed": false
   },
   "outputs": [
    {
     "name": "stderr",
     "output_type": "stream",
     "text": [
      "/Users/irene/anaconda/lib/python2.7/site-packages/matplotlib/font_manager.py:273: UserWarning: Matplotlib is building the font cache using fc-list. This may take a moment.\n",
      "  warnings.warn('Matplotlib is building the font cache using fc-list. This may take a moment.')\n"
     ]
    }
   ],
   "source": [
    "%matplotlib inline \n",
    "# above is an iPython magic command that displays plots immediately after the cell where the plot was made\n",
    "import numpy as np\n",
    "import pandas as pd\n",
    "import netCDF4 as nc\n",
    "import datetime as dt\n",
    "import pylab as pl"
   ]
  },
  {
   "cell_type": "code",
   "execution_count": 2,
   "metadata": {
    "collapsed": false
   },
   "outputs": [
    {
     "data": {
      "text/plain": [
       "u'0.20.3'"
      ]
     },
     "execution_count": 2,
     "metadata": {},
     "output_type": "execute_result"
    }
   ],
   "source": [
    "pd.__version__"
   ]
  },
  {
   "cell_type": "markdown",
   "metadata": {},
   "source": [
    "Set the path of the file we want to read."
   ]
  },
  {
   "cell_type": "code",
   "execution_count": 3,
   "metadata": {
    "collapsed": true
   },
   "outputs": [],
   "source": [
    "fname = '../dataset/agws.01m.v1.201311.nc'"
   ]
  },
  {
   "cell_type": "markdown",
   "metadata": {},
   "source": [
    "Read the netcdf file."
   ]
  },
  {
   "cell_type": "code",
   "execution_count": 4,
   "metadata": {
    "collapsed": false
   },
   "outputs": [],
   "source": [
    "dset = nc.Dataset(fname)"
   ]
  },
  {
   "cell_type": "markdown",
   "metadata": {},
   "source": [
    "Display all the variables contained in the file, as well as the length of each variable."
   ]
  },
  {
   "cell_type": "code",
   "execution_count": 5,
   "metadata": {
    "collapsed": false
   },
   "outputs": [
    {
     "name": "stdout",
     "output_type": "stream",
     "text": [
      "station_id 703\n",
      "station_location 703\n",
      "station_municipality 703\n",
      "station_province 703\n",
      "station_region 703\n",
      "station_type 703\n",
      "sampling_period 703\n",
      "lat 703\n",
      "lon 703\n",
      "alt 703\n",
      "stationIndex 2026845\n",
      "timestamp 2026845\n",
      "relative_humidity 2026845\n",
      "relative_humidity_qc 2026845\n",
      "surface_air_pressure 2026845\n",
      "surface_air_pressure_qc 2026845\n",
      "air_temperature 2026845\n",
      "air_temperature_qc 2026845\n",
      "dew_point 2026845\n",
      "dew_point_qc 2026845\n",
      "ground_water_pressure 2026845\n",
      "ground_water_pressure_qc 2026845\n",
      "ground_water_temperature 2026845\n",
      "ground_water_temperature_qc 2026845\n",
      "leaf_wetness 2026845\n",
      "leaf_wetness_qc 2026845\n",
      "total_rainfall_amount 2026845\n",
      "total_rainfall_amount_qc 2026845\n",
      "rainfall_duration 2026845\n",
      "rainfall_duration_qc 2026845\n",
      "rainfall_rate 2026845\n",
      "rainfall_rate_qc 2026845\n",
      "rainfall_amount 2026845\n",
      "rainfall_amount_qc 2026845\n",
      "soil_moisture_content_15cm 2026845\n",
      "soil_moisture_content_15cm_qc 2026845\n",
      "soil_moisture_content_30cm 2026845\n",
      "soil_moisture_content_30cm_qc 2026845\n",
      "soil_moisture_content_45cm 2026845\n",
      "soil_moisture_content_45cm_qc 2026845\n",
      "soil_temperature_15cm 2026845\n",
      "soil_temperature_15cm_qc 2026845\n",
      "soil_temperature_30cm 2026845\n",
      "soil_temperature_30cm_qc 2026845\n",
      "soil_temperature_45cm 2026845\n",
      "soil_temperature_45cm_qc 2026845\n",
      "solar_radiation 2026845\n",
      "solar_radiation_qc 2026845\n",
      "ultraviolet_index 2026845\n",
      "ultraviolet_index_qc 2026845\n",
      "waterlevel 2026845\n",
      "waterlevel_qc 2026845\n",
      "waterlevel_msl 2026845\n",
      "waterlevel_msl_qc 2026845\n",
      "wet_bulb_temperature 2026845\n",
      "wet_bulb_temperature_qc 2026845\n",
      "wind_chill 2026845\n",
      "wind_chill_qc 2026845\n",
      "wind_direction 2026845\n",
      "wind_direction_qc 2026845\n",
      "wind_direction_10m 2026845\n",
      "wind_direction_10m_qc 2026845\n",
      "wind_direction_max 2026845\n",
      "wind_direction_max_qc 2026845\n",
      "wind_direction_max_10m 2026845\n",
      "wind_direction_max_10m_qc 2026845\n",
      "wind_speed 2026845\n",
      "wind_speed_qc 2026845\n",
      "wind_speed_10m 2026845\n",
      "wind_speed_10m_qc 2026845\n",
      "wind_speed_max 2026845\n",
      "wind_speed_max_qc 2026845\n",
      "wind_speed_max_10m 2026845\n",
      "wind_speed_max_10m_qc 2026845\n"
     ]
    }
   ],
   "source": [
    "for var in dset.variables.keys():\n",
    "    print var, len(dset[var][...])"
   ]
  },
  {
   "cell_type": "markdown",
   "metadata": {},
   "source": [
    "The list above means that the first ten variables are the metadata, where the number of stations within the file corresponds to the number printed beside it. The succeeding variables are the dataset variables.\n",
    "\n",
    "Separate attributes from data."
   ]
  },
  {
   "cell_type": "code",
   "execution_count": 6,
   "metadata": {
    "collapsed": true
   },
   "outputs": [],
   "source": [
    "attrs_keys = dset.variables.keys()[:10]"
   ]
  },
  {
   "cell_type": "code",
   "execution_count": 7,
   "metadata": {
    "collapsed": true
   },
   "outputs": [],
   "source": [
    "# get all, or portion of the dataset\n",
    "#data_keys = dset.variables.keys()[10:]\n",
    "\n",
    "# or specify the variables you want to extract\n",
    "data_keys = ['rainfall_amount','rainfall_amount_qc','surface_air_pressure','surface_air_pressure_qc']"
   ]
  },
  {
   "cell_type": "markdown",
   "metadata": {},
   "source": [
    "### Attributes"
   ]
  },
  {
   "cell_type": "markdown",
   "metadata": {},
   "source": [
    "Initialize the dataframe where the attributes will be stored. The index is set to be the `station_id` variable, as this is unique for every entry."
   ]
  },
  {
   "cell_type": "code",
   "execution_count": 8,
   "metadata": {
    "collapsed": true
   },
   "outputs": [],
   "source": [
    "af = pd.DataFrame(index=dset['station_id'][...], columns=attrs_keys)"
   ]
  },
  {
   "cell_type": "markdown",
   "metadata": {},
   "source": [
    "There are some variables in the metadata that are stored as a list of characters, for example a station location is written as `['J','A','R','O']`. It would be easier to tackle this first, by concatenating the characters and assigning them directly to the dataframe."
   ]
  },
  {
   "cell_type": "code",
   "execution_count": 9,
   "metadata": {
    "collapsed": false
   },
   "outputs": [],
   "source": [
    "string_keys = ['station_location','station_municipality','station_province','station_region']\n",
    "for key in string_keys:\n",
    "    # the attributes in the list are stored as list of characters, \n",
    "    # this step concatenates them into a coherent string and directly fills the dataframe\n",
    "    af[key] = [\"\".join(data).strip() for data in dset[key][...]]\n",
    "    # remove these keys because they are already filled in the dataframe\n",
    "    attrs_keys.remove(key)\n",
    "    "
   ]
  },
  {
   "cell_type": "markdown",
   "metadata": {},
   "source": [
    "Add the rest of the metadata to the dataframe."
   ]
  },
  {
   "cell_type": "code",
   "execution_count": 10,
   "metadata": {
    "collapsed": false
   },
   "outputs": [],
   "source": [
    "for akey in attrs_keys:\n",
    "    if akey not in string_keys:\n",
    "        af[akey] = dset[akey][...]"
   ]
  },
  {
   "cell_type": "markdown",
   "metadata": {},
   "source": [
    "Let's have a preview of the metadata dataframe."
   ]
  },
  {
   "cell_type": "code",
   "execution_count": 11,
   "metadata": {
    "collapsed": false
   },
   "outputs": [
    {
     "data": {
      "text/html": [
       "<div>\n",
       "<style>\n",
       "    .dataframe thead tr:only-child th {\n",
       "        text-align: right;\n",
       "    }\n",
       "\n",
       "    .dataframe thead th {\n",
       "        text-align: left;\n",
       "    }\n",
       "\n",
       "    .dataframe tbody tr th {\n",
       "        vertical-align: top;\n",
       "    }\n",
       "</style>\n",
       "<table border=\"1\" class=\"dataframe\">\n",
       "  <thead>\n",
       "    <tr style=\"text-align: right;\">\n",
       "      <th></th>\n",
       "      <th>station_id</th>\n",
       "      <th>station_location</th>\n",
       "      <th>station_municipality</th>\n",
       "      <th>station_province</th>\n",
       "      <th>station_region</th>\n",
       "      <th>station_type</th>\n",
       "      <th>sampling_period</th>\n",
       "      <th>lat</th>\n",
       "      <th>lon</th>\n",
       "      <th>alt</th>\n",
       "    </tr>\n",
       "  </thead>\n",
       "  <tbody>\n",
       "    <tr>\n",
       "      <th>15</th>\n",
       "      <td>15</td>\n",
       "      <td>FELISA</td>\n",
       "      <td>BACOLOD CITY</td>\n",
       "      <td>Negros Occidental</td>\n",
       "      <td>6</td>\n",
       "      <td>5</td>\n",
       "      <td>15</td>\n",
       "      <td>10.589</td>\n",
       "      <td>122.972000</td>\n",
       "      <td>0.0</td>\n",
       "    </tr>\n",
       "    <tr>\n",
       "      <th>16</th>\n",
       "      <td>16</td>\n",
       "      <td>JARO</td>\n",
       "      <td>ILOILO CITY</td>\n",
       "      <td>Iloilo</td>\n",
       "      <td>6</td>\n",
       "      <td>5</td>\n",
       "      <td>15</td>\n",
       "      <td>10.772</td>\n",
       "      <td>122.579002</td>\n",
       "      <td>7.0</td>\n",
       "    </tr>\n",
       "    <tr>\n",
       "      <th>17</th>\n",
       "      <td>17</td>\n",
       "      <td>ALANGILAN-IDP</td>\n",
       "      <td>BACOLOD CITY</td>\n",
       "      <td>Negros Occidental</td>\n",
       "      <td>6</td>\n",
       "      <td>2</td>\n",
       "      <td>15</td>\n",
       "      <td>10.661</td>\n",
       "      <td>123.079002</td>\n",
       "      <td>0.0</td>\n",
       "    </tr>\n",
       "    <tr>\n",
       "      <th>18</th>\n",
       "      <td>18</td>\n",
       "      <td>ESTEFANIA</td>\n",
       "      <td>BACOLOD CITY</td>\n",
       "      <td>Negros Occidental</td>\n",
       "      <td>6</td>\n",
       "      <td>1</td>\n",
       "      <td>15</td>\n",
       "      <td>10.668</td>\n",
       "      <td>122.984001</td>\n",
       "      <td>0.0</td>\n",
       "    </tr>\n",
       "    <tr>\n",
       "      <th>19</th>\n",
       "      <td>19</td>\n",
       "      <td>TANGUB</td>\n",
       "      <td>BACOLOD CITY</td>\n",
       "      <td>Negros Occidental</td>\n",
       "      <td>6</td>\n",
       "      <td>1</td>\n",
       "      <td>15</td>\n",
       "      <td>10.641</td>\n",
       "      <td>122.924004</td>\n",
       "      <td>0.0</td>\n",
       "    </tr>\n",
       "  </tbody>\n",
       "</table>\n",
       "</div>"
      ],
      "text/plain": [
       "    station_id station_location station_municipality   station_province  \\\n",
       "15          15           FELISA         BACOLOD CITY  Negros Occidental   \n",
       "16          16             JARO          ILOILO CITY             Iloilo   \n",
       "17          17    ALANGILAN-IDP         BACOLOD CITY  Negros Occidental   \n",
       "18          18        ESTEFANIA         BACOLOD CITY  Negros Occidental   \n",
       "19          19           TANGUB         BACOLOD CITY  Negros Occidental   \n",
       "\n",
       "   station_region  station_type  sampling_period     lat         lon  alt  \n",
       "15              6             5               15  10.589  122.972000  0.0  \n",
       "16              6             5               15  10.772  122.579002  7.0  \n",
       "17              6             2               15  10.661  123.079002  0.0  \n",
       "18              6             1               15  10.668  122.984001  0.0  \n",
       "19              6             1               15  10.641  122.924004  0.0  "
      ]
     },
     "execution_count": 11,
     "metadata": {},
     "output_type": "execute_result"
    }
   ],
   "source": [
    "af.head()"
   ]
  },
  {
   "cell_type": "markdown",
   "metadata": {},
   "source": [
    "### Dataset"
   ]
  },
  {
   "cell_type": "markdown",
   "metadata": {},
   "source": [
    "Now initialize the dataset dataframe. The dataframe index is set to `stationIndex`, which corresponds to the index of the station in the `af['station_id']` list."
   ]
  },
  {
   "cell_type": "code",
   "execution_count": 12,
   "metadata": {
    "collapsed": false
   },
   "outputs": [],
   "source": [
    "df = pd.DataFrame(index=dset['stationIndex'][...].astype(int), columns=data_keys)"
   ]
  },
  {
   "cell_type": "markdown",
   "metadata": {},
   "source": [
    "We want to be able to easily read (visually) the timestamps, so we convert the time entry (epoch time) as a datetime object, and add that as a column in our dataframe."
   ]
  },
  {
   "cell_type": "code",
   "execution_count": 13,
   "metadata": {
    "collapsed": false
   },
   "outputs": [],
   "source": [
    "datetimes = [dt.datetime.utcfromtimestamp(t) for t in dset['timestamp'][...]]\n",
    "df['timestamp'] = datetimes"
   ]
  },
  {
   "cell_type": "markdown",
   "metadata": {},
   "source": [
    "Fill in the rest of the dataframe. Note here that only the columns corresponding to the data_keys you set will be included. "
   ]
  },
  {
   "cell_type": "code",
   "execution_count": 14,
   "metadata": {
    "collapsed": false
   },
   "outputs": [],
   "source": [
    "for dkey in data_keys:\n",
    "    if dkey != 'timestamp':\n",
    "        df[dkey] = dset[dkey][...]"
   ]
  },
  {
   "cell_type": "markdown",
   "metadata": {},
   "source": [
    "Preview the dataframe."
   ]
  },
  {
   "cell_type": "code",
   "execution_count": 15,
   "metadata": {
    "collapsed": false
   },
   "outputs": [
    {
     "data": {
      "text/html": [
       "<div>\n",
       "<style>\n",
       "    .dataframe thead tr:only-child th {\n",
       "        text-align: right;\n",
       "    }\n",
       "\n",
       "    .dataframe thead th {\n",
       "        text-align: left;\n",
       "    }\n",
       "\n",
       "    .dataframe tbody tr th {\n",
       "        vertical-align: top;\n",
       "    }\n",
       "</style>\n",
       "<table border=\"1\" class=\"dataframe\">\n",
       "  <thead>\n",
       "    <tr style=\"text-align: right;\">\n",
       "      <th></th>\n",
       "      <th>rainfall_amount</th>\n",
       "      <th>rainfall_amount_qc</th>\n",
       "      <th>surface_air_pressure</th>\n",
       "      <th>surface_air_pressure_qc</th>\n",
       "      <th>timestamp</th>\n",
       "    </tr>\n",
       "  </thead>\n",
       "  <tbody>\n",
       "    <tr>\n",
       "      <th>0</th>\n",
       "      <td>0.0</td>\n",
       "      <td>0</td>\n",
       "      <td>1010.280029</td>\n",
       "      <td>5</td>\n",
       "      <td>2013-11-01 00:00:03</td>\n",
       "    </tr>\n",
       "    <tr>\n",
       "      <th>0</th>\n",
       "      <td>0.0</td>\n",
       "      <td>0</td>\n",
       "      <td>1010.409973</td>\n",
       "      <td>5</td>\n",
       "      <td>2013-11-01 00:15:03</td>\n",
       "    </tr>\n",
       "    <tr>\n",
       "      <th>0</th>\n",
       "      <td>0.0</td>\n",
       "      <td>0</td>\n",
       "      <td>1010.409973</td>\n",
       "      <td>5</td>\n",
       "      <td>2013-11-01 00:30:02</td>\n",
       "    </tr>\n",
       "    <tr>\n",
       "      <th>0</th>\n",
       "      <td>0.0</td>\n",
       "      <td>0</td>\n",
       "      <td>1010.409973</td>\n",
       "      <td>5</td>\n",
       "      <td>2013-11-01 00:45:03</td>\n",
       "    </tr>\n",
       "    <tr>\n",
       "      <th>0</th>\n",
       "      <td>0.0</td>\n",
       "      <td>0</td>\n",
       "      <td>1010.280029</td>\n",
       "      <td>5</td>\n",
       "      <td>2013-11-01 01:00:03</td>\n",
       "    </tr>\n",
       "  </tbody>\n",
       "</table>\n",
       "</div>"
      ],
      "text/plain": [
       "   rainfall_amount rainfall_amount_qc  surface_air_pressure  \\\n",
       "0              0.0                  0           1010.280029   \n",
       "0              0.0                  0           1010.409973   \n",
       "0              0.0                  0           1010.409973   \n",
       "0              0.0                  0           1010.409973   \n",
       "0              0.0                  0           1010.280029   \n",
       "\n",
       "  surface_air_pressure_qc           timestamp  \n",
       "0                       5 2013-11-01 00:00:03  \n",
       "0                       5 2013-11-01 00:15:03  \n",
       "0                       5 2013-11-01 00:30:02  \n",
       "0                       5 2013-11-01 00:45:03  \n",
       "0                       5 2013-11-01 01:00:03  "
      ]
     },
     "execution_count": 15,
     "metadata": {},
     "output_type": "execute_result"
    }
   ],
   "source": [
    "df.head()"
   ]
  },
  {
   "cell_type": "markdown",
   "metadata": {},
   "source": [
    "### Plotting and other Pandas features"
   ]
  },
  {
   "cell_type": "markdown",
   "metadata": {},
   "source": [
    "Now that we have the basic dataframe, let us see how we can play around with the data."
   ]
  },
  {
   "cell_type": "markdown",
   "metadata": {},
   "source": [
    "Let's say we want to look for a specific station. First get the index of the station from the station_id list. For example, we want 'JARO' station."
   ]
  },
  {
   "cell_type": "code",
   "execution_count": 69,
   "metadata": {
    "collapsed": false
   },
   "outputs": [
    {
     "data": {
      "text/html": [
       "<div>\n",
       "<style>\n",
       "    .dataframe thead tr:only-child th {\n",
       "        text-align: right;\n",
       "    }\n",
       "\n",
       "    .dataframe thead th {\n",
       "        text-align: left;\n",
       "    }\n",
       "\n",
       "    .dataframe tbody tr th {\n",
       "        vertical-align: top;\n",
       "    }\n",
       "</style>\n",
       "<table border=\"1\" class=\"dataframe\">\n",
       "  <thead>\n",
       "    <tr style=\"text-align: right;\">\n",
       "      <th></th>\n",
       "      <th>station_id</th>\n",
       "      <th>station_location</th>\n",
       "      <th>station_province</th>\n",
       "    </tr>\n",
       "  </thead>\n",
       "  <tbody>\n",
       "    <tr>\n",
       "      <th>158</th>\n",
       "      <td>158</td>\n",
       "      <td>BALABAGAN MUNICIPAL HALL, BALABAGAN, LANAO DEL...</td>\n",
       "      <td>Lanao del Sur</td>\n",
       "    </tr>\n",
       "    <tr>\n",
       "      <th>159</th>\n",
       "      <td>159</td>\n",
       "      <td>MOTORPOOL, NORTH UPI, MAGUINDANAO</td>\n",
       "      <td>Maguindanao</td>\n",
       "    </tr>\n",
       "    <tr>\n",
       "      <th>160</th>\n",
       "      <td>160</td>\n",
       "      <td>PAGASA IBA STATION</td>\n",
       "      <td>Zambales</td>\n",
       "    </tr>\n",
       "    <tr>\n",
       "      <th>161</th>\n",
       "      <td>161</td>\n",
       "      <td>PAGASA-Dagupan Station</td>\n",
       "      <td>Pangasinan</td>\n",
       "    </tr>\n",
       "    <tr>\n",
       "      <th>162</th>\n",
       "      <td>162</td>\n",
       "      <td>BRGY. TAYAMAAN-IDP</td>\n",
       "      <td>Occidental Mindoro</td>\n",
       "    </tr>\n",
       "    <tr>\n",
       "      <th>163</th>\n",
       "      <td>163</td>\n",
       "      <td>MINDORO STATE COLLEGE OF AGRICULTURE AND TECHN...</td>\n",
       "      <td>Oriental Mindoro</td>\n",
       "    </tr>\n",
       "    <tr>\n",
       "      <th>164</th>\n",
       "      <td>164</td>\n",
       "      <td>Brgy. Mahinhin - IDP</td>\n",
       "      <td>Marinduque</td>\n",
       "    </tr>\n",
       "    <tr>\n",
       "      <th>165</th>\n",
       "      <td>165</td>\n",
       "      <td>SAN FERNANDO</td>\n",
       "      <td>Romblon</td>\n",
       "    </tr>\n",
       "    <tr>\n",
       "      <th>167</th>\n",
       "      <td>167</td>\n",
       "      <td>CITY AGRICULTURE OFFICE</td>\n",
       "      <td>Zamboanga del Norte</td>\n",
       "    </tr>\n",
       "    <tr>\n",
       "      <th>168</th>\n",
       "      <td>168</td>\n",
       "      <td>UWASCO, CALANGGAMAN</td>\n",
       "      <td>Bohol</td>\n",
       "    </tr>\n",
       "    <tr>\n",
       "      <th>170</th>\n",
       "      <td>170</td>\n",
       "      <td>NEW GOVERNMENT CENTER</td>\n",
       "      <td>Negros Occidental</td>\n",
       "    </tr>\n",
       "    <tr>\n",
       "      <th>172</th>\n",
       "      <td>172</td>\n",
       "      <td>BRGY. PUNAO, SAN CARLOS CITY</td>\n",
       "      <td>Negros Occidental</td>\n",
       "    </tr>\n",
       "    <tr>\n",
       "      <th>175</th>\n",
       "      <td>175</td>\n",
       "      <td>PAGADIAN AIRPORT</td>\n",
       "      <td>Zamboanga del Sur</td>\n",
       "    </tr>\n",
       "    <tr>\n",
       "      <th>178</th>\n",
       "      <td>178</td>\n",
       "      <td>VILLANUEVA BRIDGE, PARANAQUE CREEK</td>\n",
       "      <td>Metro Manila</td>\n",
       "    </tr>\n",
       "    <tr>\n",
       "      <th>179</th>\n",
       "      <td>179</td>\n",
       "      <td>URBAN CENTER POBLACION</td>\n",
       "      <td>Iloilo</td>\n",
       "    </tr>\n",
       "    <tr>\n",
       "      <th>180</th>\n",
       "      <td>180</td>\n",
       "      <td>SIARGAO ISLAND</td>\n",
       "      <td>Surigao del Norte</td>\n",
       "    </tr>\n",
       "    <tr>\n",
       "      <th>181</th>\n",
       "      <td>181</td>\n",
       "      <td>DEBEMSCAT MANDAON</td>\n",
       "      <td>Masbate</td>\n",
       "    </tr>\n",
       "    <tr>\n",
       "      <th>182</th>\n",
       "      <td>182</td>\n",
       "      <td>TIWI COMMUNITY COLLEGE COMPOUND, LIBTONG</td>\n",
       "      <td>Albay</td>\n",
       "    </tr>\n",
       "    <tr>\n",
       "      <th>183</th>\n",
       "      <td>183</td>\n",
       "      <td>MAGAYON DRIVE</td>\n",
       "      <td>Albay</td>\n",
       "    </tr>\n",
       "    <tr>\n",
       "      <th>184</th>\n",
       "      <td>184</td>\n",
       "      <td>LIBON</td>\n",
       "      <td>Albay</td>\n",
       "    </tr>\n",
       "  </tbody>\n",
       "</table>\n",
       "</div>"
      ],
      "text/plain": [
       "     station_id                                   station_location  \\\n",
       "158         158  BALABAGAN MUNICIPAL HALL, BALABAGAN, LANAO DEL...   \n",
       "159         159                  MOTORPOOL, NORTH UPI, MAGUINDANAO   \n",
       "160         160                                 PAGASA IBA STATION   \n",
       "161         161                             PAGASA-Dagupan Station   \n",
       "162         162                                 BRGY. TAYAMAAN-IDP   \n",
       "163         163  MINDORO STATE COLLEGE OF AGRICULTURE AND TECHN...   \n",
       "164         164                               Brgy. Mahinhin - IDP   \n",
       "165         165                                       SAN FERNANDO   \n",
       "167         167                            CITY AGRICULTURE OFFICE   \n",
       "168         168                                UWASCO, CALANGGAMAN   \n",
       "170         170                              NEW GOVERNMENT CENTER   \n",
       "172         172                       BRGY. PUNAO, SAN CARLOS CITY   \n",
       "175         175                                   PAGADIAN AIRPORT   \n",
       "178         178                 VILLANUEVA BRIDGE, PARANAQUE CREEK   \n",
       "179         179                             URBAN CENTER POBLACION   \n",
       "180         180                                     SIARGAO ISLAND   \n",
       "181         181                                  DEBEMSCAT MANDAON   \n",
       "182         182           TIWI COMMUNITY COLLEGE COMPOUND, LIBTONG   \n",
       "183         183                                      MAGAYON DRIVE   \n",
       "184         184                                              LIBON   \n",
       "\n",
       "        station_province  \n",
       "158        Lanao del Sur  \n",
       "159          Maguindanao  \n",
       "160             Zambales  \n",
       "161           Pangasinan  \n",
       "162   Occidental Mindoro  \n",
       "163     Oriental Mindoro  \n",
       "164           Marinduque  \n",
       "165              Romblon  \n",
       "167  Zamboanga del Norte  \n",
       "168                Bohol  \n",
       "170    Negros Occidental  \n",
       "172    Negros Occidental  \n",
       "175    Zamboanga del Sur  \n",
       "178         Metro Manila  \n",
       "179               Iloilo  \n",
       "180    Surigao del Norte  \n",
       "181              Masbate  \n",
       "182                Albay  \n",
       "183                Albay  \n",
       "184                Albay  "
      ]
     },
     "execution_count": 69,
     "metadata": {},
     "output_type": "execute_result"
    }
   ],
   "source": [
    "af.loc[:,['station_id','station_location','station_province']][100:120]"
   ]
  },
  {
   "cell_type": "markdown",
   "metadata": {},
   "source": [
    "Next we want to get the index (position) of the 'JARO' station from the list."
   ]
  },
  {
   "cell_type": "code",
   "execution_count": 17,
   "metadata": {
    "collapsed": false
   },
   "outputs": [],
   "source": [
    "stn_idx = np.where(af['station_location'] == 'JARO')[0][0]"
   ]
  },
  {
   "cell_type": "markdown",
   "metadata": {},
   "source": [
    "Alternatively, we can get the index (position) of the station based on the `station_id`."
   ]
  },
  {
   "cell_type": "code",
   "execution_count": 70,
   "metadata": {
    "collapsed": true
   },
   "outputs": [],
   "source": [
    "stn_idx = np.where(af['station_id'] == 179)[0][0]"
   ]
  },
  {
   "cell_type": "code",
   "execution_count": 71,
   "metadata": {
    "collapsed": false
   },
   "outputs": [
    {
     "name": "stdout",
     "output_type": "stream",
     "text": [
      "114\n"
     ]
    }
   ],
   "source": [
    "print stn_idx"
   ]
  },
  {
   "cell_type": "markdown",
   "metadata": {},
   "source": [
    "This is the value that corresponds to `stationIndex` in the dataset dataframe."
   ]
  },
  {
   "cell_type": "code",
   "execution_count": 72,
   "metadata": {
    "collapsed": true
   },
   "outputs": [],
   "source": [
    "df_station = df.loc[stn_idx]"
   ]
  },
  {
   "cell_type": "code",
   "execution_count": 73,
   "metadata": {
    "collapsed": false
   },
   "outputs": [
    {
     "data": {
      "text/plain": [
       "[<matplotlib.lines.Line2D at 0x12f2526d0>]"
      ]
     },
     "execution_count": 73,
     "metadata": {},
     "output_type": "execute_result"
    },
    {
     "data": {
      "image/png": "[encoded data removed]",
      "text/plain": [
       "<matplotlib.figure.Figure at 0x12efc33d0>"
      ]
     },
     "metadata": {},
     "output_type": "display_data"
    }
   ],
   "source": [
    "fig = pl.figure(figsize=(15,5))\n",
    "pl.plot(df_station['timestamp'],df_station['rainfall_amount'])"
   ]
  },
  {
   "cell_type": "markdown",
   "metadata": {},
   "source": [
    "Since the index we used before was not a DatetimeIndex, TimedeltaIndex or PeriodIndex, we have to reset the index to the `timestamp` column."
   ]
  },
  {
   "cell_type": "code",
   "execution_count": 74,
   "metadata": {
    "collapsed": true
   },
   "outputs": [],
   "source": [
    "df_station = df_station.reset_index().set_index('timestamp')"
   ]
  },
  {
   "cell_type": "markdown",
   "metadata": {},
   "source": [
    "Only then we can do the resampling. Make sure to select only the column you want to resample, otherwise it will apply the calculation (in this case `sum`) to all columns, even columns where the operation does not apply (i.e. air pressure)."
   ]
  },
  {
   "cell_type": "code",
   "execution_count": 75,
   "metadata": {
    "collapsed": false
   },
   "outputs": [],
   "source": [
    "df_station_hourly_rain = df_station['rainfall_amount'].resample('D').sum()"
   ]
  },
  {
   "cell_type": "code",
   "execution_count": 76,
   "metadata": {
    "collapsed": false
   },
   "outputs": [
    {
     "data": {
      "text/plain": [
       "timestamp\n",
       "2013-11-01    17.309999\n",
       "2013-11-02     1.670000\n",
       "2013-11-03     0.090000\n",
       "2013-11-04     9.700000\n",
       "2013-11-05     0.080000\n",
       "Freq: D, Name: rainfall_amount, dtype: float32"
      ]
     },
     "execution_count": 76,
     "metadata": {},
     "output_type": "execute_result"
    }
   ],
   "source": [
    "df_station_hourly_rain.head()"
   ]
  },
  {
   "cell_type": "code",
   "execution_count": 77,
   "metadata": {
    "collapsed": false
   },
   "outputs": [
    {
     "data": {
      "text/plain": [
       "[<matplotlib.lines.Line2D at 0x12f4ef8d0>]"
      ]
     },
     "execution_count": 77,
     "metadata": {},
     "output_type": "execute_result"
    },
    {
     "data": {
      "image/png": "[encoded data removed]",
      "text/plain": [
       "<matplotlib.figure.Figure at 0x12f4ab4d0>"
      ]
     },
     "metadata": {},
     "output_type": "display_data"
    }
   ],
   "source": [
    "fig = pl.figure(figsize=(15,5))\n",
    "pl.plot(df_station_hourly_rain.index,df_station_hourly_rain.values)"
   ]
  },
  {
   "cell_type": "code",
   "execution_count": null,
   "metadata": {
    "collapsed": true
   },
   "outputs": [],
   "source": []
  }
 ],
 "metadata": {
  "anaconda-cloud": {},
  "kernelspec": {
   "display_name": "Python [Root]",
   "language": "python",
   "name": "Python [Root]"
  },
  "language_info": {
   "codemirror_mode": {
    "name": "ipython",
    "version": 2
   },
   "file_extension": ".py",
   "mimetype": "text/x-python",
   "name": "python",
   "nbconvert_exporter": "python",
   "pygments_lexer": "ipython2",
   "version": "2.7.12"
  }
 },
 "nbformat": 4,
 "nbformat_minor": 0
}
